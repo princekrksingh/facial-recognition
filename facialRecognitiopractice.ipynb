{
 "cells": [
  {
   "cell_type": "markdown",
   "metadata": {},
   "source": [
    "# FACIAL REGONITION"
   ]
  },
  {
   "cell_type": "code",
   "execution_count": 7,
   "metadata": {},
   "outputs": [],
   "source": [
    "import cv2"
   ]
  },
  {
   "cell_type": "code",
   "execution_count": 8,
   "metadata": {},
   "outputs": [],
   "source": [
    "#Read image\n",
    "img = cv2.imread(\"/home/prince/Desktop/ngs.jpg\")"
   ]
  },
  {
   "cell_type": "code",
   "execution_count": 9,
   "metadata": {},
   "outputs": [
    {
     "name": "stdout",
     "output_type": "stream",
     "text": [
      "[[[232 234 242]\n",
      "  [232 234 242]\n",
      "  [232 234 242]\n",
      "  ...\n",
      "  [232 234 242]\n",
      "  [232 234 242]\n",
      "  [232 234 242]]\n",
      "\n",
      " [[232 234 242]\n",
      "  [232 234 242]\n",
      "  [232 234 242]\n",
      "  ...\n",
      "  [232 234 242]\n",
      "  [232 234 242]\n",
      "  [232 234 242]]\n",
      "\n",
      " [[232 234 242]\n",
      "  [232 234 242]\n",
      "  [232 234 242]\n",
      "  ...\n",
      "  [232 234 242]\n",
      "  [232 234 242]\n",
      "  [232 234 242]]\n",
      "\n",
      " ...\n",
      "\n",
      " [[232 234 242]\n",
      "  [232 234 242]\n",
      "  [232 234 242]\n",
      "  ...\n",
      "  [232 234 242]\n",
      "  [232 234 242]\n",
      "  [232 234 242]]\n",
      "\n",
      " [[232 234 242]\n",
      "  [232 234 242]\n",
      "  [232 234 242]\n",
      "  ...\n",
      "  [232 234 242]\n",
      "  [232 234 242]\n",
      "  [232 234 242]]\n",
      "\n",
      " [[232 234 242]\n",
      "  [232 234 242]\n",
      "  [232 234 242]\n",
      "  ...\n",
      "  [232 234 242]\n",
      "  [232 234 242]\n",
      "  [232 234 242]]]\n"
     ]
    }
   ],
   "source": [
    "print(img)"
   ]
  },
  {
   "cell_type": "code",
   "execution_count": 10,
   "metadata": {},
   "outputs": [
    {
     "name": "stdout",
     "output_type": "stream",
     "text": [
      "<class 'numpy.ndarray'>\n"
     ]
    }
   ],
   "source": [
    "print(type(img))"
   ]
  },
  {
   "cell_type": "code",
   "execution_count": 11,
   "metadata": {},
   "outputs": [
    {
     "name": "stdout",
     "output_type": "stream",
     "text": [
      "(720, 1280, 3)\n"
     ]
    }
   ],
   "source": [
    "print(img.shape)"
   ]
  },
  {
   "cell_type": "code",
   "execution_count": 13,
   "metadata": {},
   "outputs": [],
   "source": [
    "cv2.imshow(\"NGS\",img)\n",
    "cv2.waitKey(2000) # time for waiting 2000ms\n",
    "cv2.destroyAllWindows()  #show image for sometime till presses any keyboard key\n"
   ]
  },
  {
   "cell_type": "code",
   "execution_count": 14,
   "metadata": {},
   "outputs": [],
   "source": [
    "resized_img =cv2.resize(img,(600,600))\n",
    "cv2.imshow(\"Resize\",resized_img)    \n",
    "cv2.waitKey(2000)\n",
    "cv2.destroyAllWindows()\n"
   ]
  },
  {
   "cell_type": "code",
   "execution_count": 16,
   "metadata": {},
   "outputs": [],
   "source": [
    "resized=cv2.resize(img,(int(img.shape[1]/2),int(img.shape[0]/2)))\n",
    "cv2.imshow(\"Resized\",resized)    \n",
    "cv2.waitKey(2000)\n",
    "cv2.destroyAllWindows()    \n"
   ]
  },
  {
   "cell_type": "code",
   "execution_count": null,
   "metadata": {},
   "outputs": [],
   "source": []
  }
 ],
 "metadata": {
  "kernelspec": {
   "display_name": "Python 3",
   "language": "python",
   "name": "python3"
  },
  "language_info": {
   "codemirror_mode": {
    "name": "ipython",
    "version": 3
   },
   "file_extension": ".py",
   "mimetype": "text/x-python",
   "name": "python",
   "nbconvert_exporter": "python",
   "pygments_lexer": "ipython3",
   "version": "3.7.4"
  }
 },
 "nbformat": 4,
 "nbformat_minor": 4
}
